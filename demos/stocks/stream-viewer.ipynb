{
 "cells": [
  {
   "cell_type": "code",
   "execution_count": 2,
   "metadata": {},
   "outputs": [
    {
     "name": "stdout",
     "output_type": "stream",
     "text": [
      "Requirement already satisfied: requests in /User/.pythonlibs/lib/python3.6/site-packages (2.21.0)\n",
      "Requirement already satisfied: chardet<3.1.0,>=3.0.2 in /conda/lib/python3.6/site-packages (from requests) (3.0.4)\n",
      "Requirement already satisfied: urllib3<1.25,>=1.21.1 in /conda/lib/python3.6/site-packages (from requests) (1.24.2)\n",
      "Requirement already satisfied: idna<2.9,>=2.5 in /conda/lib/python3.6/site-packages (from requests) (2.8)\n",
      "Requirement already satisfied: certifi>=2017.4.17 in /conda/lib/python3.6/site-packages (from requests) (2019.6.16)\n"
     ]
    }
   ],
   "source": [
    "!pip install requests"
   ]
  },
  {
   "cell_type": "markdown",
   "metadata": {},
   "source": [
    "# Real-Time Stream Viewer (HTTP)\n",
    "the following function responds to HTTP requests with the list of last 10 processed twitter messages + sentiments in reverse order (newest on top), it reads records from the enriched stream, take the recent 10 messages, and reverse sort them. the function is using nuclio context to store the last results and stream pointers for max efficiency.<br> \n",
    "\n",
    "The code is automatically converted into a nuclio (serverless) function and and respond to HTTP requests<br>\n",
    "\n",
    "the example demonstrate the use of `%nuclio` magic commands to specify environment variables, package dependencies,<br>configurations, and to deploy functions automatically onto a cluster.\n",
    "\n",
    "\n",
    "## Initialize nuclio emulation, environment variables and configuration\n",
    "use `# nuclio: ignore` for sections that dont need to be copied to the function"
   ]
  },
  {
   "cell_type": "code",
   "execution_count": 1,
   "metadata": {},
   "outputs": [],
   "source": [
    "# nuclio: ignore\n",
    "# if the nuclio-jupyter package is not installed run !pip install nuclio-jupyter\n",
    "import nuclio "
   ]
  },
  {
   "cell_type": "code",
   "execution_count": 2,
   "metadata": {},
   "outputs": [],
   "source": [
    "%nuclio env -c V3IO_ACCESS_KEY=${V3IO_ACCESS_KEY}\n",
    "%nuclio env -c V3IO_USERNAME=${V3IO_USERNAME}\n",
    "%nuclio env -c V3IO_API=${V3IO_API}"
   ]
  },
  {
   "cell_type": "markdown",
   "metadata": {},
   "source": [
    "### Set function configuration \n",
    "use a cron trigger with 5min interval and define the base image<br>\n",
    "for more details check [nuclio function configuration reference](https://github.com/nuclio/nuclio/blob/master/docs/reference/function-configuration/function-configuration-reference.md)"
   ]
  },
  {
   "cell_type": "code",
   "execution_count": 3,
   "metadata": {},
   "outputs": [
    {
     "name": "stdout",
     "output_type": "stream",
     "text": [
      "%nuclio: setting spec.triggers.web.kind to 'http'\n",
      "%nuclio: setting spec.triggers.web.attributes.port to 30100\n",
      "%nuclio: setting spec.build.baseImage to 'python:3.6-jessie'\n"
     ]
    }
   ],
   "source": [
    "%%nuclio config \n",
    "# ask for a specific (fixed) API port\n",
    "spec.triggers.web.kind = \"http\"\n",
    "spec.triggers.web.attributes.port = 30100\n",
    "# define the function base docker image\n",
    "spec.build.baseImage = \"python:3.6-jessie\""
   ]
  },
  {
   "cell_type": "markdown",
   "metadata": {},
   "source": [
    "### Install required packages\n",
    "`%nuclio cmd` allows you to run image build instructions and install packages<br>\n",
    "Note: `-c` option will only install in nuclio, not locally"
   ]
  },
  {
   "cell_type": "code",
   "execution_count": 4,
   "metadata": {},
   "outputs": [
    {
     "name": "stdout",
     "output_type": "stream",
     "text": [
      "Collecting git+https://github.com/yaronha/v3io-py-http.git\n",
      "  Cloning https://github.com/yaronha/v3io-py-http.git to /tmp/pip-req-build-57tvlfam\n",
      "Requirement already satisfied: requests in /User/.pythonlibs/lib/python3.6/site-packages (from v3io==0.1.0) (2.21.0)\n",
      "Requirement already satisfied: urllib3<1.25,>=1.21.1 in /conda/lib/python3.6/site-packages (from requests->v3io==0.1.0) (1.24.2)\n",
      "Requirement already satisfied: idna<2.9,>=2.5 in /conda/lib/python3.6/site-packages (from requests->v3io==0.1.0) (2.8)\n",
      "Requirement already satisfied: chardet<3.1.0,>=3.0.2 in /conda/lib/python3.6/site-packages (from requests->v3io==0.1.0) (3.0.4)\n",
      "Requirement already satisfied: certifi>=2017.4.17 in /conda/lib/python3.6/site-packages (from requests->v3io==0.1.0) (2019.6.16)\n",
      "Building wheels for collected packages: v3io\n",
      "  Running setup.py bdist_wheel for v3io ... \u001b[?25ldone\n",
      "\u001b[?25h  Stored in directory: /tmp/pip-ephem-wheel-cache-acj6yi38/wheels/00/ef/83/f14502597567a98324c7d794400da9604b16fff222e64cd68b\n",
      "Successfully built v3io\n",
      "Installing collected packages: v3io\n",
      "  Found existing installation: v3io 0.1.1\n",
      "    Uninstalling v3io-0.1.1:\n",
      "      Successfully uninstalled v3io-0.1.1\n",
      "Successfully installed v3io-0.1.0\n"
     ]
    }
   ],
   "source": [
    "%nuclio cmd pip install git+https://github.com/yaronha/v3io-py-http.git"
   ]
  },
  {
   "cell_type": "markdown",
   "metadata": {},
   "source": [
    "## Nuclio function implementation\n",
    "this function can run in Jupyter or in nuclio (real-time serverless)"
   ]
  },
  {
   "cell_type": "code",
   "execution_count": 5,
   "metadata": {},
   "outputs": [],
   "source": [
    "import v3io\n",
    "import base64\n",
    "import json\n",
    "import os\n",
    "\n",
    "v3 = v3io.V3io(container='bigdata')\n",
    "\n",
    "def handler(context, event):\n",
    "\n",
    "\n",
    "    resp = v3.getrecords('stock_stream','0',context.next_location,10)\n",
    "    json_resp = resp.json()\n",
    "    context.next_location = json_resp['NextLocation']\n",
    "\n",
    "    context.logger.info('location: %s', context.next_location)\n",
    "\n",
    "    for rec in json_resp['Records'] :\n",
    "        rec_data = base64.b64decode(rec['Data']).decode('utf-8')\n",
    "        rec_json = json.loads(rec_data)['text']\n",
    "        context.data += [rec_json]\n",
    "\n",
    "    context.data = context.data[-10:]\n",
    "\n",
    "    return context.Response(body=json.dumps(context.data[::-1]),\n",
    "                            headers={'Access-Control-Allow-Origin': '*'},\n",
    "                            content_type='text/plain',\n",
    "                            status_code=200)\n",
    "\n",
    "\n",
    "def init_context(context):\n",
    "    resp = v3.seek('stock_stream','0','EARLIEST')\n",
    "    context.next_location = resp.json()['Location']\n",
    "    context.data = []"
   ]
  },
  {
   "cell_type": "markdown",
   "metadata": {},
   "source": [
    "## Function invocation\n",
    "the following section simulates nuclio function invocation and will emit the function results"
   ]
  },
  {
   "cell_type": "code",
   "execution_count": 6,
   "metadata": {},
   "outputs": [
    {
     "name": "stdout",
     "output_type": "stream",
     "text": [
      "Python> 2019-07-16 19:57:35,807 [info] location: AQAAAAEAAAAAAEAwAAAAAA==\n"
     ]
    },
    {
     "data": {
      "text/plain": [
       "Response(headers={'Access-Control-Allow-Origin': '*'}, body='[\"bla bla bla\"]', status_code=200, content_type='text/plain')"
      ]
     },
     "execution_count": 6,
     "metadata": {},
     "output_type": "execute_result"
    }
   ],
   "source": [
    "# nuclio: ignore\n",
    "# create a test event and invoke the function locally \n",
    "init_context(context)\n",
    "event = nuclio.Event(body='')\n",
    "handler(context, event)"
   ]
  },
  {
   "cell_type": "markdown",
   "metadata": {},
   "source": [
    "## Deploy a function onto a cluster\n",
    "the `%nuclio deploy` command deploy functions into a cluster, make sure the notebook is saved prior to running it !<br>check the help (`%nuclio help deploy`) for more information"
   ]
  },
  {
   "cell_type": "code",
   "execution_count": 7,
   "metadata": {},
   "outputs": [
    {
     "name": "stdout",
     "output_type": "stream",
     "text": [
      "[nuclio.deploy] 2019-07-16 19:57:48,775 (info) Building processor image\n",
      "[nuclio.deploy] 2019-07-16 19:58:00,866 (info) Pushing image\n",
      "[nuclio.deploy] 2019-07-16 19:58:01,874 (info) Build complete\n",
      "[nuclio.deploy] 2019-07-16 19:58:03,890 (info) Function deploy complete\n",
      "[nuclio.deploy] 2019-07-16 19:58:03,895 done creating stream-viewer, function address: 35.158.100.123:30100\n",
      "%nuclio: function deployed\n"
     ]
    }
   ],
   "source": [
    "%nuclio deploy -p stocks -c"
   ]
  },
  {
   "cell_type": "code",
   "execution_count": 9,
   "metadata": {},
   "outputs": [
    {
     "name": "stdout",
     "output_type": "stream",
     "text": [
      "[\"bla bla bla\"]"
     ]
    }
   ],
   "source": [
    "# nuclio: ignore\n",
    "# test the new API end point, take the address from the deploy log above\n",
    "!curl 35.158.100.123:30100"
   ]
  },
  {
   "cell_type": "code",
   "execution_count": null,
   "metadata": {},
   "outputs": [],
   "source": []
  }
 ],
 "metadata": {
  "kernelspec": {
   "display_name": "Python 3",
   "language": "python",
   "name": "python3"
  },
  "language_info": {
   "codemirror_mode": {
    "name": "ipython",
    "version": 3
   },
   "file_extension": ".py",
   "mimetype": "text/x-python",
   "name": "python",
   "nbconvert_exporter": "python",
   "pygments_lexer": "ipython3",
   "version": "3.6.8"
  }
 },
 "nbformat": 4,
 "nbformat_minor": 2
}

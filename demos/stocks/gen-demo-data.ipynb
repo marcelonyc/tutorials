{
 "cells": [
  {
   "cell_type": "code",
   "execution_count": 2,
   "metadata": {},
   "outputs": [
    {
     "name": "stdout",
     "output_type": "stream",
     "text": [
      "Requirement already satisfied: requests in /User/.pythonlibs/lib/python3.6/site-packages (2.21.0)\n",
      "Requirement already satisfied: certifi>=2017.4.17 in /conda/lib/python3.6/site-packages (from requests) (2019.6.16)\n",
      "Requirement already satisfied: urllib3<1.25,>=1.21.1 in /conda/lib/python3.6/site-packages (from requests) (1.24.2)\n",
      "Requirement already satisfied: chardet<3.1.0,>=3.0.2 in /conda/lib/python3.6/site-packages (from requests) (3.0.4)\n",
      "Requirement already satisfied: idna<2.9,>=2.5 in /conda/lib/python3.6/site-packages (from requests) (2.8)\n"
     ]
    }
   ],
   "source": [
    "!pip install requests"
   ]
  },
  {
   "cell_type": "markdown",
   "metadata": {},
   "source": [
    "# Genarate Stocks Demo Data\n",
    "\n",
    "Run the code below to generate the key/value table, time-series table and stream used in the demo<br>\n",
    "> Note, for the notebook to run you need to set the need to set the WorldTradingData token as described below<br>"
   ]
  },
  {
   "cell_type": "code",
   "execution_count": 1,
   "metadata": {},
   "outputs": [],
   "source": [
    "# import required libraries \n",
    "import pandas as pd\n",
    "import numpy as np\n",
    "import os\n",
    "from datetime import datetime\n",
    "import v3io_frames as v3f"
   ]
  },
  {
   "cell_type": "code",
   "execution_count": 2,
   "metadata": {},
   "outputs": [],
   "source": [
    "# initialize iguazio multi-model DB dataframe client library \n",
    "client = v3f.Client('framesd:8081')"
   ]
  },
  {
   "cell_type": "markdown",
   "metadata": {},
   "source": [
    "## Delete KV, TSDB, and Stream tabels\n",
    "in case we want to start things from scratch (delete current tabels), uncomment the following line(s) and run them "
   ]
  },
  {
   "cell_type": "code",
   "execution_count": 3,
   "metadata": {},
   "outputs": [],
   "source": [
    "#client.delete('kv','stocks')"
   ]
  },
  {
   "cell_type": "code",
   "execution_count": 4,
   "metadata": {},
   "outputs": [],
   "source": [
    "#client.delete('tsdb','stock_metrics')"
   ]
  },
  {
   "cell_type": "code",
   "execution_count": 5,
   "metadata": {},
   "outputs": [],
   "source": [
    "#client.delete('stream','stock_stream')"
   ]
  },
  {
   "cell_type": "markdown",
   "metadata": {},
   "source": [
    "## Create TSDB, KV, and Stream tabels "
   ]
  },
  {
   "cell_type": "code",
   "execution_count": 6,
   "metadata": {},
   "outputs": [],
   "source": [
    "client.create(backend='tsdb', table='stock_metrics',attrs={'rate':'1/m'})"
   ]
  },
  {
   "cell_type": "code",
   "execution_count": 7,
   "metadata": {},
   "outputs": [],
   "source": [
    "client.create(backend='stream', table='stock_stream',attrs={'retention_hours':48,'shards':1})"
   ]
  },
  {
   "cell_type": "code",
   "execution_count": 8,
   "metadata": {},
   "outputs": [],
   "source": [
    "# fill the key/value table with some data (KV tables are automatically created on write and have a dynamic schema)\n",
    "kvtbl = '{\"price\":{\"GOOG\":1039.55,\"AMZN\":1641.03,\"AAPL\":169.6,\"MSFT\":107.59,\"INTC\":47.21},\"volume\":{\"GOOG\":1807725,\"AMZN\":7494808,\"AAPL\":62025994,\"MSFT\":40801525,\"INTC\":23289000},\"symbol\":{\"GOOG\":\"GOOG\",\"AMZN\":\"AMZN\",\"AAPL\":\"AAPL\",\"MSFT\":\"MSFT\",\"INTC\":\"INTC\"},\"exchange\":{\"GOOG\":\"NASDAQ\",\"AMZN\":\"NASDAQ\",\"AAPL\":\"NASDAQ\",\"MSFT\":\"NASDAQ\",\"INTC\":\"NASDAQ\"},\"last_trade\":{\"GOOG\":\"2018-12-10 16:00:01\",\"AMZN\":\"2018-12-10 16:00:02\",\"AAPL\":\"2018-12-10 16:00:02\",\"MSFT\":\"2018-12-10 16:00:02\",\"INTC\":\"2018-12-10 16:00:02\"},\"name\":{\"GOOG\":\"Alphabet Inc Class C\",\"AMZN\":\"Amazon.com, Inc.\",\"AAPL\":\"Apple Inc.\",\"MSFT\":\"Microsoft Corporation\",\"INTC\":\"Intel Corporation\"},\"currency\":{\"GOOG\":\"USD\",\"AMZN\":\"USD\",\"AAPL\":\"USD\",\"MSFT\":\"USD\",\"INTC\":\"USD\"},\"timezone\":{\"GOOG\":\"EST\",\"AMZN\":\"EST\",\"AAPL\":\"EST\",\"MSFT\":\"EST\",\"INTC\":\"EST\"}}'\n",
    "client.write(backend='kv', table='stocks',dfs=pd.read_json(kvtbl))"
   ]
  },
  {
   "cell_type": "markdown",
   "metadata": {},
   "source": [
    "## Fill the time-series table with a week worth or historical data from WorldTradingData API \n",
    "Require obtaining a (free) API token from [World Trading Data](https://www.worldtradingdata.com) and setting the environment variable below "
   ]
  },
  {
   "cell_type": "code",
   "execution_count": 9,
   "metadata": {},
   "outputs": [
    {
     "name": "stdout",
     "output_type": "stream",
     "text": [
      "env: API_TOKEN=n8aEg3h92H9z4cXfwQb1b89zD0alr7TkglhLlaou0gLEFUWfBeX5gCV3NabN\n"
     ]
    }
   ],
   "source": [
    "%env API_TOKEN = n8aEg3h92H9z4cXfwQb1b89zD0alr7TkglhLlaou0gLEFUWfBeX5gCV3NabN"
   ]
  },
  {
   "cell_type": "code",
   "execution_count": 10,
   "metadata": {},
   "outputs": [
    {
     "name": "stdout",
     "output_type": "stream",
     "text": [
      "                                       price  volume  sentiment\n",
      "Date                symbol exchange                            \n",
      "2019-07-08 09:30:00 GOOG   NASDAQ    1123.64   26348  -0.883976\n",
      "2019-07-08 09:31:00 GOOG   NASDAQ    1124.55    6247  -0.020961\n",
      "2019-07-08 09:32:00 GOOG   NASDAQ    1123.00   11255  -0.138720\n",
      "2019-07-08 09:33:00 GOOG   NASDAQ    1122.58    4198   0.001645\n",
      "2019-07-08 09:34:00 GOOG   NASDAQ    1122.57    4243  -0.692639\n",
      "                                       price  volume  sentiment\n",
      "Date                symbol exchange                            \n",
      "2019-07-08 09:30:00 AMZN   NASDAQ    1934.11   84222  -0.260358\n",
      "2019-07-08 09:31:00 AMZN   NASDAQ    1933.07   32291  -0.731977\n",
      "2019-07-08 09:32:00 AMZN   NASDAQ    1932.47   16622   0.396753\n",
      "2019-07-08 09:33:00 AMZN   NASDAQ    1931.17   11802  -0.440043\n",
      "2019-07-08 09:34:00 AMZN   NASDAQ    1933.50   11866  -0.393260\n",
      "                                      price   volume  sentiment\n",
      "Date                symbol exchange                            \n",
      "2019-07-08 09:30:00 AAPL   NASDAQ    200.77  1077141  -0.058033\n",
      "2019-07-08 09:31:00 AAPL   NASDAQ    200.91   271034   0.143496\n",
      "2019-07-08 09:32:00 AAPL   NASDAQ    201.00   200313   0.509248\n",
      "2019-07-08 09:33:00 AAPL   NASDAQ    201.30   219879   0.391378\n",
      "2019-07-08 09:34:00 AAPL   NASDAQ    201.18   139674  -0.296895\n",
      "                                     price  volume  sentiment\n",
      "Date                symbol exchange                          \n",
      "2019-07-08 09:30:00 INTC   NASDAQ    47.53  526539  -0.268122\n",
      "2019-07-08 09:31:00 INTC   NASDAQ    47.40  224681  -0.847129\n",
      "2019-07-08 09:32:00 INTC   NASDAQ    47.47  141771   0.629931\n",
      "2019-07-08 09:33:00 INTC   NASDAQ    47.37  192491  -0.373908\n",
      "2019-07-08 09:34:00 INTC   NASDAQ    47.29  178628   0.475659\n",
      "                                      price  volume  sentiment\n",
      "Date                symbol exchange                           \n",
      "2019-07-08 09:30:00 MSFT   NASDAQ    136.00  562782  -0.226861\n",
      "2019-07-08 09:31:00 MSFT   NASDAQ    135.63  149102   0.051809\n",
      "2019-07-08 09:32:00 MSFT   NASDAQ    135.43  184250  -0.663741\n",
      "2019-07-08 09:33:00 MSFT   NASDAQ    135.75  129394   0.058967\n",
      "2019-07-08 09:34:00 MSFT   NASDAQ    135.68   71663  -0.649144\n"
     ]
    }
   ],
   "source": [
    "# read the stocks kv table (to get the Symboles)\n",
    "sdf = client.read(backend='kv', table='stocks') \n",
    "stocklist = sdf.index.tolist()\n",
    "\n",
    "# create all stocks data based on stocks table & WTD history API\n",
    "# need the symbol & exchange name from stocks table \n",
    "urlt = 'https://www.worldtradingdata.com/api/v1/intraday?symbol={0}&range=7&sort=asc&interval=1&output=csv&api_token=' + os.getenv('API_TOKEN')\n",
    "for sym in stocklist:\n",
    "    if not sym:\n",
    "        continue \n",
    "    url = urlt.format(sym)\n",
    "    df = pd.read_csv(url,skiprows=[0])\n",
    "    df.drop(['Open','High','Low'], axis=1, inplace=True)\n",
    "    df.rename(columns={'Close': 'price', 'Volume': 'volume'}, inplace=True)\n",
    "    \n",
    "    # generate random sentiment series per stock\n",
    "    df['sentiment'] = np.random.uniform(low=0.0, high=2, size=(len(df),))-1\n",
    "    \n",
    "    # set the index to date, symbol, exchange (will be marked as TSDB labels) \n",
    "    df.Date = pd.to_datetime(df.Date)\n",
    "    df['exchange']=sdf.loc[sym].exchange\n",
    "    df['symbol']=sym\n",
    "    newdf =df.set_index(['Date','symbol','exchange'])\n",
    "    \n",
    "    # write to the TSDB\n",
    "    print(newdf.head())\n",
    "    client.write(backend='tsdb', table='stock_metrics',dfs=newdf)"
   ]
  },
  {
   "cell_type": "markdown",
   "metadata": {},
   "source": [
    "## Fill dummy tweet data in the stream"
   ]
  },
  {
   "cell_type": "code",
   "execution_count": 11,
   "metadata": {},
   "outputs": [
    {
     "data": {
      "text/html": [
       "<div>\n",
       "<style scoped>\n",
       "    .dataframe tbody tr th:only-of-type {\n",
       "        vertical-align: middle;\n",
       "    }\n",
       "\n",
       "    .dataframe tbody tr th {\n",
       "        vertical-align: top;\n",
       "    }\n",
       "\n",
       "    .dataframe thead th {\n",
       "        text-align: right;\n",
       "    }\n",
       "</style>\n",
       "<table border=\"1\" class=\"dataframe\">\n",
       "  <thead>\n",
       "    <tr style=\"text-align: right;\">\n",
       "      <th></th>\n",
       "    </tr>\n",
       "  </thead>\n",
       "  <tbody>\n",
       "  </tbody>\n",
       "</table>\n",
       "</div>"
      ],
      "text/plain": [
       "Empty DataFrame\n",
       "Columns: []\n",
       "Index: []"
      ]
     },
     "execution_count": 11,
     "metadata": {},
     "output_type": "execute_result"
    }
   ],
   "source": [
    "import json\n",
    "record = {'text': 'bla bla bla', \n",
    "          'user': '@supermen',\n",
    "          'id': 1102722594429132545,\n",
    "          'created_at':'Tue Mar 02 00:08:48 +0000 2019',\n",
    "          'polarity':0.3,\n",
    "          'subjectivity':0.1,\n",
    "         }\n",
    "client.execute('stream', 'stock_stream', 'put', args={'data': json.dumps(record)})"
   ]
  },
  {
   "cell_type": "code",
   "execution_count": null,
   "metadata": {},
   "outputs": [],
   "source": []
  }
 ],
 "metadata": {
  "kernelspec": {
   "display_name": "Python 3",
   "language": "python",
   "name": "python3"
  },
  "language_info": {
   "codemirror_mode": {
    "name": "ipython",
    "version": 3
   },
   "file_extension": ".py",
   "mimetype": "text/x-python",
   "name": "python",
   "nbconvert_exporter": "python",
   "pygments_lexer": "ipython3",
   "version": "3.6.8"
  }
 },
 "nbformat": 4,
 "nbformat_minor": 2
}

{
 "cells": [
  {
   "cell_type": "markdown",
   "metadata": {},
   "source": [
    "# Generate stores & customers for the demo"
   ]
  },
  {
   "cell_type": "markdown",
   "metadata": {},
   "source": [
    "## Setup the environment"
   ]
  },
  {
   "cell_type": "markdown",
   "metadata": {},
   "source": [
    "### imports"
   ]
  },
  {
   "cell_type": "code",
   "execution_count": 2,
   "metadata": {},
   "outputs": [],
   "source": [
    "import logging\n",
    "import os\n",
    "import pickle\n",
    "import random\n",
    "import itertools\n",
    "import boto3\n",
    "import botocore\n",
    "\n",
    "# Demo\n",
    "import pandas as pd\n",
    "import pymorton as pm\n",
    "from faker import Faker\n",
    "from faker.providers import BaseProvider\n",
    "\n",
    "# DB\n",
    "import v3io as v3c\n",
    "import v3io_frames as v3f"
   ]
  },
  {
   "cell_type": "markdown",
   "metadata": {},
   "source": [
    "### Define environment variables"
   ]
  },
  {
   "cell_type": "code",
   "execution_count": 6,
   "metadata": {},
   "outputs": [],
   "source": [
    "# Stores\n",
    "NUMBER_OF_STORES=50\n",
    "STORES_TABLE='stores'\n",
    "ACCURACY=20\n",
    "BASE_ACCURACY=14\n",
    "DATA_DIR = os.getenv('DATA_DIR','/v3io/users/' + os.getenv('V3IO_USER','iguazio') + '/lbr_data') \n",
    "\n",
    "# Customers\n",
    "NUMBER_OF_CUSTOMERS=5000\n",
    "CUSTOMERS_TABLE='customers'\n",
    "os.environ['CUSTOMERS_DATA_FILE_DIR'] = DATA_DIR\n",
    "os.environ['CUSTOMERS_DATA_FILE_PATH'] = os.path.join(os.environ['CUSTOMERS_DATA_FILE_DIR'], 'data_train_n.csv')\n",
    "!mkdir -p ${CUSTOMERS_DATA_FILE_DIR}"
   ]
  },
  {
   "cell_type": "code",
   "execution_count": 7,
   "metadata": {},
   "outputs": [
    {
     "name": "stdout",
     "output_type": "stream",
     "text": [
      "  % Total    % Received % Xferd  Average Speed   Time    Time     Time  Current\n",
      "                                 Dload  Upload   Total   Spent    Left  Speed\n",
      "100  399M  100  399M    0     0  16.4M      0  0:00:24  0:00:24 --:--:-- 17.7M\n"
     ]
    }
   ],
   "source": [
    "!curl -L \"iguazio-sample-data.s3.amazonaws.com/data_train_n.csv\" > ${CUSTOMERS_DATA_FILE_PATH}"
   ]
  },
  {
   "cell_type": "markdown",
   "metadata": {},
   "source": [
    "### Open DB client"
   ]
  },
  {
   "cell_type": "code",
   "execution_count": 8,
   "metadata": {},
   "outputs": [],
   "source": [
    "client = v3f.Client('framesd:8081')"
   ]
  },
  {
   "cell_type": "markdown",
   "metadata": {},
   "source": [
    "## Generate Stores"
   ]
  },
  {
   "cell_type": "markdown",
   "metadata": {},
   "source": [
    "### Location provider"
   ]
  },
  {
   "cell_type": "code",
   "execution_count": 9,
   "metadata": {},
   "outputs": [],
   "source": [
    "class LocationProvider(BaseProvider):\n",
    "    '''\n",
    "    Creates locations within base_location\n",
    "\n",
    "    Uses QuadTree for Geohashing\n",
    "        @{http://tech.taskrabbit.com/blog/2015/06/09/elasticsearch-geohash-vs-geotree/}\n",
    "        @{http://mapzen.github.io/leaflet-spatial-prefix-tree/}\n",
    "        @{http://blog.notdot.net/2009/11/Damn-Cool-Algorithms-Spatial-indexing-with-Quadtrees-and-Hilbert-Curves}\n",
    "    '''    \n",
    "    def location(self, location_base: str, base_acc=10, acc=20):\n",
    "        coordinates = location_base[:base_acc]\n",
    "        for i in range(acc-len(coordinates)):\n",
    "            coordinates += str(random.randint(0, 3))\n",
    "        return coordinates"
   ]
  },
  {
   "cell_type": "markdown",
   "metadata": {},
   "source": [
    "Add the location provider as a faker provider"
   ]
  },
  {
   "cell_type": "code",
   "execution_count": 10,
   "metadata": {},
   "outputs": [],
   "source": [
    "faker = Faker()\n",
    "faker.add_provider(LocationProvider)"
   ]
  },
  {
   "cell_type": "markdown",
   "metadata": {},
   "source": [
    "### Define scenario environment (locations)"
   ]
  },
  {
   "cell_type": "code",
   "execution_count": 12,
   "metadata": {},
   "outputs": [],
   "source": [
    "london_city = (51.514926, -0.089580)\n",
    "london_city_south = (51.501593, -0.094942)\n",
    "london_west = (51.512309, -0.128966)\n",
    "london_south_west = (51.495022, -0.162268)\n",
    "\n",
    "london_coordinates = []\n",
    "london_coordinates.append(london_city)\n",
    "london_coordinates.append(london_city_south)\n",
    "london_coordinates.append(london_west)\n",
    "london_coordinates.append(london_south_west)\n",
    "\n",
    "london_coordinates_qt = list(map(lambda cooridnate: pm.interleave_latlng(*cooridnate), london_coordinates))\n",
    "#london_coordinates_qt"
   ]
  },
  {
   "cell_type": "markdown",
   "metadata": {},
   "source": [
    "### Define Store class"
   ]
  },
  {
   "cell_type": "code",
   "execution_count": 13,
   "metadata": {},
   "outputs": [],
   "source": [
    "class Store(object):\n",
    "    def __init__(self, store_id: int, name: str, location: str):\n",
    "        self.store_id = store_id if store_id is not None else random.randint(1, int(os.genev('NUMBER_OF_STORES', 500)))\n",
    "        self.location = location\n",
    "        (self.lat, self.long) = pm.deinterleave_latlng(location)\n",
    "        self.store_name = name\n",
    "        self.customers = 0\n",
    "    \n",
    "    def json(self):\n",
    "        json_store = {\n",
    "            'id': self.store_id,\n",
    "            'name': self.store_name,\n",
    "            'location': self.location,\n",
    "            'latitude': self.lat,\n",
    "            'longitude': self.long,\n",
    "            'customers': self.customers\n",
    "        }\n",
    "        return json_store"
   ]
  },
  {
   "cell_type": "markdown",
   "metadata": {},
   "source": [
    "### Create stores"
   ]
  },
  {
   "cell_type": "code",
   "execution_count": 14,
   "metadata": {},
   "outputs": [],
   "source": [
    "def create_stores(faker, number_of_stores: int=500):\n",
    "    remaining = number_of_stores\n",
    "    stores = []\n",
    "    while remaining > 0:\n",
    "        # Create stores\n",
    "        stores_batch = [Store(faker.msisdn(), faker.company(), faker.location(random.choice(london_coordinates_qt), BASE_ACCURACY, ACCURACY)).json() \n",
    "              for i in range(remaining)]\n",
    "        \n",
    "        # Count for duplicate locations\n",
    "        locations = list(map(lambda store: store['location'], stores_batch))\n",
    "        locations = list(dict.fromkeys(locations))\n",
    "        remaining -= len(locations)\n",
    "        \n",
    "        # Update stores list\n",
    "        stores.append(stores_batch)\n",
    "\n",
    "    stores = list(itertools.chain.from_iterable(stores))\n",
    "    stores = pd.DataFrame.from_records(stores)\n",
    "    stores = stores.set_index(['location'])\n",
    "    stores = stores[~stores.index.duplicated(keep='first')]\n",
    "    return stores"
   ]
  },
  {
   "cell_type": "code",
   "execution_count": 26,
   "metadata": {},
   "outputs": [
    {
     "name": "stdout",
     "output_type": "stream",
     "text": [
      "Table  stores  does not exist\n"
     ]
    }
   ],
   "source": [
    "try:\n",
    "    client.delete('kv', STORES_TABLE, if_missing=1)\n",
    "except:\n",
    "    print(\"Table \", STORES_TABLE, \" does not exist\")"
   ]
  },
  {
   "cell_type": "code",
   "execution_count": 28,
   "metadata": {},
   "outputs": [],
   "source": [
    "stores = create_stores(faker, NUMBER_OF_STORES)"
   ]
  },
  {
   "cell_type": "markdown",
   "metadata": {},
   "source": [
    "### Upload to DB "
   ]
  },
  {
   "cell_type": "code",
   "execution_count": 29,
   "metadata": {},
   "outputs": [],
   "source": [
    "# client.delete('kv', STORES_TABLE)\n",
    "client.write('kv', STORES_TABLE, stores)"
   ]
  },
  {
   "cell_type": "markdown",
   "metadata": {},
   "source": [
    "## Generate customers"
   ]
  },
  {
   "cell_type": "code",
   "execution_count": 30,
   "metadata": {},
   "outputs": [],
   "source": [
    "class Customer(object):\n",
    "    def __init__(self, id=0, location='0', products=\"\"):\n",
    "        self.id = id\n",
    "        self.location = location\n",
    "        self.products = products\n",
    "        \n",
    "    def json(self):\n",
    "        json_customer = {\n",
    "            'id': self.id,\n",
    "            'location': self.location,\n",
    "            'products': self.products\n",
    "        }\n",
    "        return json_customer"
   ]
  },
  {
   "cell_type": "code",
   "execution_count": 31,
   "metadata": {},
   "outputs": [],
   "source": [
    "def create_customers(customers_data: pd.DataFrame, number_of_customers: int):\n",
    "    available_customer = list(customers_data.user_id)\n",
    "    customers = [Customer(id=i,\n",
    "                          products=customers_data.loc[customers_data['user_id'] == random.choice(available_customer)]\\\n",
    "                                    .drop(['user_id', 'Unnamed: 0'], axis=1)\\\n",
    "                                    .to_json()).json() for i in range(number_of_customers)]\n",
    "    customers = pd.DataFrame.from_records(customers)\n",
    "    customers.set_index(['id'])\n",
    "    return customers"
   ]
  },
  {
   "cell_type": "code",
   "execution_count": 32,
   "metadata": {},
   "outputs": [
    {
     "data": {
      "text/html": [
       "<div>\n",
       "<style scoped>\n",
       "    .dataframe tbody tr th:only-of-type {\n",
       "        vertical-align: middle;\n",
       "    }\n",
       "\n",
       "    .dataframe tbody tr th {\n",
       "        vertical-align: top;\n",
       "    }\n",
       "\n",
       "    .dataframe thead th {\n",
       "        text-align: right;\n",
       "    }\n",
       "</style>\n",
       "<table border=\"1\" class=\"dataframe\">\n",
       "  <thead>\n",
       "    <tr style=\"text-align: right;\">\n",
       "      <th></th>\n",
       "      <th>id</th>\n",
       "      <th>location</th>\n",
       "      <th>products</th>\n",
       "    </tr>\n",
       "  </thead>\n",
       "  <tbody>\n",
       "    <tr>\n",
       "      <th>0</th>\n",
       "      <td>0</td>\n",
       "      <td>0</td>\n",
       "      <td>{\"user_product_reordered_ratio\":{\"49732\":1.0,\"...</td>\n",
       "    </tr>\n",
       "    <tr>\n",
       "      <th>1</th>\n",
       "      <td>1</td>\n",
       "      <td>0</td>\n",
       "      <td>{\"user_product_reordered_ratio\":{\"50882\":1.0,\"...</td>\n",
       "    </tr>\n",
       "    <tr>\n",
       "      <th>2</th>\n",
       "      <td>2</td>\n",
       "      <td>0</td>\n",
       "      <td>{\"user_product_reordered_ratio\":{\"148007\":1.0,...</td>\n",
       "    </tr>\n",
       "    <tr>\n",
       "      <th>3</th>\n",
       "      <td>3</td>\n",
       "      <td>0</td>\n",
       "      <td>{\"user_product_reordered_ratio\":{\"17403\":1.0,\"...</td>\n",
       "    </tr>\n",
       "    <tr>\n",
       "      <th>4</th>\n",
       "      <td>4</td>\n",
       "      <td>0</td>\n",
       "      <td>{\"user_product_reordered_ratio\":{\"31534\":1.0,\"...</td>\n",
       "    </tr>\n",
       "  </tbody>\n",
       "</table>\n",
       "</div>"
      ],
      "text/plain": [
       "   id location                                           products\n",
       "0   0        0  {\"user_product_reordered_ratio\":{\"49732\":1.0,\"...\n",
       "1   1        0  {\"user_product_reordered_ratio\":{\"50882\":1.0,\"...\n",
       "2   2        0  {\"user_product_reordered_ratio\":{\"148007\":1.0,...\n",
       "3   3        0  {\"user_product_reordered_ratio\":{\"17403\":1.0,\"...\n",
       "4   4        0  {\"user_product_reordered_ratio\":{\"31534\":1.0,\"..."
      ]
     },
     "execution_count": 32,
     "metadata": {},
     "output_type": "execute_result"
    }
   ],
   "source": [
    "# Load customers seed data\n",
    "customers_data = pd.read_csv(os.environ['CUSTOMERS_DATA_FILE_PATH'])\n",
    "\n",
    "# Create actual customers\n",
    "customers = create_customers(customers_data, NUMBER_OF_CUSTOMERS)"
   ]
  },
  {
   "cell_type": "markdown",
   "metadata": {},
   "source": [
    "## Upload to DB"
   ]
  },
  {
   "cell_type": "code",
   "execution_count": 36,
   "metadata": {},
   "outputs": [],
   "source": [
    "try:\n",
    "    client.delete('kv', CUSTOMERS_TABLE, if_missing=1)\n",
    "except:\n",
    "        print(\"Table \", CUSTOMERS_TABLE, \" does not exist\")"
   ]
  },
  {
   "cell_type": "code",
   "execution_count": 37,
   "metadata": {},
   "outputs": [
    {
     "name": "stdout",
     "output_type": "stream",
     "text": [
      "Failed to insert some rows into  customers\n"
     ]
    }
   ],
   "source": [
    "try:\n",
    "    client.write('kv', CUSTOMERS_TABLE, dfs=customers)\n",
    "except:\n",
    "    print(\"Failed to insert some rows into \", CUSTOMERS_TABLE)"
   ]
  },
  {
   "cell_type": "code",
   "execution_count": 41,
   "metadata": {},
   "outputs": [
    {
     "name": "stdout",
     "output_type": "stream",
     "text": [
      "Customers table sized: (4979, 3)\n"
     ]
    }
   ],
   "source": [
    "print(f'Customers table sized: {client.read(\"kv\", CUSTOMERS_TABLE).shape}')"
   ]
  },
  {
   "cell_type": "markdown",
   "metadata": {},
   "source": [
    "## Generate predictions"
   ]
  },
  {
   "cell_type": "code",
   "execution_count": 39,
   "metadata": {},
   "outputs": [
    {
     "name": "stdout",
     "output_type": "stream",
     "text": [
      "Table predictions does not exist\n"
     ]
    }
   ],
   "source": [
    "try:\n",
    "    client.delete('tsdb', 'predictions', if_missing=1)\n",
    "except:\n",
    "    print(\"Table predictions does not exist\")\n"
   ]
  },
  {
   "cell_type": "code",
   "execution_count": 40,
   "metadata": {},
   "outputs": [
    {
     "data": {
      "text/plain": [
       "0"
      ]
     },
     "execution_count": 40,
     "metadata": {},
     "output_type": "execute_result"
    }
   ],
   "source": [
    "os.system(\"tsdbctl create -c bigdata -t predictions -r 1/s\")"
   ]
  },
  {
   "cell_type": "code",
   "execution_count": null,
   "metadata": {},
   "outputs": [],
   "source": []
  }
 ],
 "metadata": {
  "kernelspec": {
   "display_name": "Python 3",
   "language": "python",
   "name": "python3"
  },
  "language_info": {
   "codemirror_mode": {
    "name": "ipython",
    "version": 3
   },
   "file_extension": ".py",
   "mimetype": "text/x-python",
   "name": "python",
   "nbconvert_exporter": "python",
   "pygments_lexer": "ipython3",
   "version": "3.6.8"
  }
 },
 "nbformat": 4,
 "nbformat_minor": 2
}

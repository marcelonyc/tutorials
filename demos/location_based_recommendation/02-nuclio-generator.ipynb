{
 "cells": [
  {
   "cell_type": "markdown",
   "metadata": {},
   "source": [
    "# Nuclio - Generator"
   ]
  },
  {
   "cell_type": "markdown",
   "metadata": {},
   "source": [
    "## Setup the environment"
   ]
  },
  {
   "cell_type": "code",
   "execution_count": 17,
   "metadata": {},
   "outputs": [],
   "source": [
    "# nuclio: ignore\n",
    "import nuclio"
   ]
  },
  {
   "cell_type": "markdown",
   "metadata": {},
   "source": [
    "### Define environment variables"
   ]
  },
  {
   "cell_type": "code",
   "execution_count": 18,
   "metadata": {},
   "outputs": [
    {
     "name": "stdout",
     "output_type": "stream",
     "text": [
      "%nuclio: setting 'V3IO_FRAMESD' environment variable\n",
      "%nuclio: setting 'V3IO_USERNAME' environment variable\n",
      "%nuclio: setting 'V3IO_ACCESS_KEY' environment variable\n",
      "%nuclio: setting 'BATCH_SIZE' environment variable\n",
      "%nuclio: setting 'DATA_STREAM' environment variable\n",
      "%nuclio: setting 'london_locations' environment variable\n",
      "%nuclio: setting 'ACCURACY' environment variable\n",
      "%nuclio: setting 'BASE_ACCURACY' environment variable\n"
     ]
    }
   ],
   "source": [
    "%%nuclio env\n",
    "#V3IO_FRAMESD=${V3IO_FRAMESD}\n",
    "#V3IO_USERNAME=${V3IO_USERNAME}\n",
    "#V3IO_ACCESS_KEY=${V3IO_ACCESS_KEY}\n",
    "\n",
    "BATCH_SIZE=100\n",
    "DATA_STREAM=customers_stream\n",
    "london_locations=03311311313011311011000321002320,03311311311233323013031101320003,03311311313010023000032330133111,03311311311222300331010333220231\n",
    "ACCURACY=20\n",
    "BASE_ACCURACY=14"
   ]
  },
  {
   "cell_type": "markdown",
   "metadata": {},
   "source": [
    "### Base image"
   ]
  },
  {
   "cell_type": "code",
   "execution_count": 19,
   "metadata": {},
   "outputs": [
    {
     "name": "stdout",
     "output_type": "stream",
     "text": [
      "%nuclio: setting spec.build.baseImage to 'python:3.6-jessie'\n"
     ]
    }
   ],
   "source": [
    "%nuclio config spec.build.baseImage = \"python:3.6-jessie\""
   ]
  },
  {
   "cell_type": "markdown",
   "metadata": {},
   "source": [
    "### Set cron trigger"
   ]
  },
  {
   "cell_type": "code",
   "execution_count": 20,
   "metadata": {},
   "outputs": [
    {
     "name": "stdout",
     "output_type": "stream",
     "text": [
      "%nuclio: setting spec.triggers.secs.kind to 'cron'\n",
      "%nuclio: setting spec.triggers.secs.attributes.interval to '1m'\n"
     ]
    }
   ],
   "source": [
    "%nuclio config spec.triggers.secs.kind = \"cron\"\n",
    "%nuclio config spec.triggers.secs.attributes.interval = \"1m\""
   ]
  },
  {
   "cell_type": "markdown",
   "metadata": {},
   "source": [
    "### Install packages"
   ]
  },
  {
   "cell_type": "code",
   "execution_count": 21,
   "metadata": {},
   "outputs": [
    {
     "name": "stdout",
     "output_type": "stream",
     "text": [
      "Requirement already satisfied: pandas in /conda/lib/python3.6/site-packages (0.23.4)\n",
      "Requirement already satisfied: python-dateutil>=2.5.0 in /conda/lib/python3.6/site-packages (from pandas) (2.8.0)\n",
      "Requirement already satisfied: pytz>=2011k in /conda/lib/python3.6/site-packages (from pandas) (2019.1)\n",
      "Requirement already satisfied: numpy>=1.9.0 in /conda/lib/python3.6/site-packages (from pandas) (1.16.4)\n",
      "Requirement already satisfied: six>=1.5 in /conda/lib/python3.6/site-packages (from python-dateutil>=2.5.0->pandas) (1.12.0)\n",
      "Requirement already satisfied: v3io_frames in /conda/lib/python3.6/site-packages (0.5.7)\n",
      "Requirement already satisfied: googleapis-common-protos>=1.5.3 in /conda/lib/python3.6/site-packages (from v3io_frames) (1.6.0)\n",
      "Requirement already satisfied: requests>=2.19.1 in /User/.pythonlibs/lib/python3.6/site-packages (from v3io_frames) (2.21.0)\n",
      "Requirement already satisfied: pandas==0.23.* in /conda/lib/python3.6/site-packages (from v3io_frames) (0.23.4)\n",
      "Requirement already satisfied: grpcio-tools>=1.16.0 in /conda/lib/python3.6/site-packages (from v3io_frames) (1.22.0)\n",
      "Requirement already satisfied: protobuf>=3.6.0 in /conda/lib/python3.6/site-packages (from googleapis-common-protos>=1.5.3->v3io_frames) (3.8.0)\n",
      "Requirement already satisfied: idna<2.9,>=2.5 in /conda/lib/python3.6/site-packages (from requests>=2.19.1->v3io_frames) (2.8)\n",
      "Requirement already satisfied: urllib3<1.25,>=1.21.1 in /conda/lib/python3.6/site-packages (from requests>=2.19.1->v3io_frames) (1.24.2)\n",
      "Requirement already satisfied: certifi>=2017.4.17 in /conda/lib/python3.6/site-packages (from requests>=2.19.1->v3io_frames) (2019.6.16)\n",
      "Requirement already satisfied: chardet<3.1.0,>=3.0.2 in /conda/lib/python3.6/site-packages (from requests>=2.19.1->v3io_frames) (3.0.4)\n",
      "Requirement already satisfied: python-dateutil>=2.5.0 in /conda/lib/python3.6/site-packages (from pandas==0.23.*->v3io_frames) (2.8.0)\n",
      "Requirement already satisfied: pytz>=2011k in /conda/lib/python3.6/site-packages (from pandas==0.23.*->v3io_frames) (2019.1)\n",
      "Requirement already satisfied: numpy>=1.9.0 in /conda/lib/python3.6/site-packages (from pandas==0.23.*->v3io_frames) (1.16.4)\n",
      "Requirement already satisfied: grpcio>=1.22.0 in /conda/lib/python3.6/site-packages (from grpcio-tools>=1.16.0->v3io_frames) (1.22.0)\n",
      "Requirement already satisfied: six>=1.9 in /conda/lib/python3.6/site-packages (from protobuf>=3.6.0->googleapis-common-protos>=1.5.3->v3io_frames) (1.12.0)\n",
      "Requirement already satisfied: setuptools in /conda/lib/python3.6/site-packages (from protobuf>=3.6.0->googleapis-common-protos>=1.5.3->v3io_frames) (41.0.1)\n",
      "Requirement already satisfied: faker in /User/.pythonlibs/lib/python3.6/site-packages (2.0.0)\n",
      "Requirement already satisfied: text-unidecode==1.2 in /User/.pythonlibs/lib/python3.6/site-packages (from faker) (1.2)\n",
      "Requirement already satisfied: six>=1.10 in /conda/lib/python3.6/site-packages (from faker) (1.12.0)\n",
      "Requirement already satisfied: python-dateutil>=2.4 in /conda/lib/python3.6/site-packages (from faker) (2.8.0)\n"
     ]
    }
   ],
   "source": [
    "%%nuclio cmd\n",
    "\n",
    "# General\n",
    "pip install pandas\n",
    "# pip install json\n",
    "\n",
    "# DB\n",
    "pip install v3io_frames\n",
    "\n",
    "# Function\n",
    "pip install faker"
   ]
  },
  {
   "cell_type": "markdown",
   "metadata": {},
   "source": [
    "## Function code"
   ]
  },
  {
   "cell_type": "markdown",
   "metadata": {},
   "source": [
    "### Imports"
   ]
  },
  {
   "cell_type": "code",
   "execution_count": 22,
   "metadata": {},
   "outputs": [],
   "source": [
    "import os\n",
    "import itertools\n",
    "import random\n",
    "from datetime import datetime\n",
    "\n",
    "# Data handling\n",
    "import pandas as pd\n",
    "\n",
    "# DB\n",
    "import v3io_frames as v3f\n",
    "\n",
    "# Function\n",
    "import faker\n",
    "from faker.providers import BaseProvider"
   ]
  },
  {
   "cell_type": "markdown",
   "metadata": {},
   "source": [
    "### Helper classes definitions"
   ]
  },
  {
   "cell_type": "code",
   "execution_count": 23,
   "metadata": {},
   "outputs": [],
   "source": [
    "class LocationProvider(BaseProvider):\n",
    "    '''\n",
    "    Creates locations within base_location\n",
    "\n",
    "    Uses QuadTree for Geohashing\n",
    "        @{http://tech.taskrabbit.com/blog/2015/06/09/elasticsearch-geohash-vs-geotree/}\n",
    "        @{http://mapzen.github.io/leaflet-spatial-prefix-tree/}\n",
    "        @{http://blog.notdot.net/2009/11/Damn-Cool-Algorithms-Spatial-indexing-with-Quadtrees-and-Hilbert-Curves}\n",
    "    '''    \n",
    "    def location(self, location_base: str, base_acc: int=10, acc: int=20):\n",
    "        coordinates = location_base[:base_acc]\n",
    "        for i in range(acc-len(coordinates)):\n",
    "            coordinates += str(random.randint(0, 3))\n",
    "        return coordinates"
   ]
  },
  {
   "cell_type": "markdown",
   "metadata": {},
   "source": [
    "### Init context"
   ]
  },
  {
   "cell_type": "code",
   "execution_count": 24,
   "metadata": {},
   "outputs": [],
   "source": [
    "def init_context(context):\n",
    "    ##########\n",
    "    # Setups #\n",
    "    ##########\n",
    "    \n",
    "    # DB Contexts\n",
    "    v3c_frames = v3f.Client('framesd:8081', container='bigdata')\n",
    "    setattr(context, 'v3f', v3c_frames)\n",
    "    \n",
    "    # DB Tables\n",
    "    customers_table = os.getenv('CUSTOMERS', 'customers')\n",
    "    setattr(context, 'customers_table', customers_table)\n",
    "    \n",
    "    customers_stream = os.getenv('CUSTOMERS_STREAM', 'customers_stream')\n",
    "    setattr(context, 'customers_stream', customers_stream)\n",
    "    \n",
    "    # Function\n",
    "    fakers = faker.Faker()\n",
    "    fakers.add_provider(LocationProvider)\n",
    "    setattr(context, 'faker', fakers)\n",
    "    \n",
    "    locations = list(os.getenv('london_locations', '').split(','))\n",
    "    setattr(context, 'locations', locations)\n",
    "    \n",
    "    customers = v3c_frames.read('kv', customers_table)\n",
    "    customers = range(customers.shape[0])\n",
    "    setattr(context, 'customers', customers)\n",
    "    \n",
    "    location_accuracy_params = [int(os.getenv('BASE_ACCURACY', 14)), int(os.getenv('ACCURACY', 20))]\n",
    "    setattr(context, 'location_accuracy_params', location_accuracy_params)\n",
    "    \n",
    "    ###########\n",
    "    # Actions #\n",
    "    ###########\n",
    "    try:\n",
    "        v3c_frames.delete('tsdb', customers_stream, if_missing=1)\n",
    "    except:\n",
    "        context.logger.debug('Couldnt delete customers stream')\n",
    "    v3c_frames.create('tsdb', customers_stream, attrs={'rate':'1/s'})"
   ]
  },
  {
   "cell_type": "markdown",
   "metadata": {},
   "source": [
    "### Helper functions"
   ]
  },
  {
   "cell_type": "code",
   "execution_count": 25,
   "metadata": {},
   "outputs": [],
   "source": [
    "def create_customer(context):\n",
    "    customer_id = random.choice(context.customers)\n",
    "    location = context.faker.location(random.choice(context.locations), *context.location_accuracy_params)\n",
    "    customer = {\n",
    "        'timestamp': datetime.now(),\n",
    "        'id': customer_id,\n",
    "        'location': location\n",
    "    }\n",
    "    return customer"
   ]
  },
  {
   "cell_type": "code",
   "execution_count": 26,
   "metadata": {},
   "outputs": [],
   "source": [
    "def create_batch(context, batch_size: int):\n",
    "    customers = (create_customer(context) for i in range(batch_size))\n",
    "    customers = pd.DataFrame.from_records(itertools.chain(customers))\n",
    "    customers = customers.set_index(['timestamp', 'id'])\n",
    "    return customers"
   ]
  },
  {
   "cell_type": "markdown",
   "metadata": {},
   "source": [
    "### Handler"
   ]
  },
  {
   "cell_type": "code",
   "execution_count": 27,
   "metadata": {},
   "outputs": [],
   "source": [
    "def handler(context, event):\n",
    "    # Create customers\n",
    "    customers = create_batch(context, int(os.getenv('BATCH_SIZE', 100)))\n",
    "    context.logger.debug(f'created {customers.count()} customers')\n",
    "    context.logger.debug(f'example:\\n{customers.head(1)}')\n",
    "    \n",
    "    # Send to stream\n",
    "    context.v3f.write('tsdb', context.customers_stream, [customers])"
   ]
  },
  {
   "cell_type": "code",
   "execution_count": 28,
   "metadata": {},
   "outputs": [],
   "source": [
    "# nuclio: ignore\n",
    "init_context(context)"
   ]
  },
  {
   "cell_type": "code",
   "execution_count": null,
   "metadata": {},
   "outputs": [],
   "source": [
    "# nuclio: ignore\n",
    "event = nuclio.Event(body='')\n",
    "handler(context, event)"
   ]
  },
  {
   "cell_type": "code",
   "execution_count": 29,
   "metadata": {},
   "outputs": [
    {
     "name": "stdout",
     "output_type": "stream",
     "text": [
      "[nuclio.deploy] 2019-07-16 18:57:36,162 (info) Building processor image\n",
      "[nuclio.deploy] 2019-07-16 18:57:41,201 (info) Pushing image\n",
      "[nuclio.deploy] 2019-07-16 18:57:41,202 (info) Build complete\n",
      "[nuclio.deploy] 2019-07-16 18:57:51,280 (info) Function deploy complete\n",
      "[nuclio.deploy] 2019-07-16 18:57:51,285 done updating generator, function address: 35.158.100.123:30058\n",
      "%nuclio: function deployed\n"
     ]
    }
   ],
   "source": [
    "%nuclio deploy -n generator -p recommendation_engine -c"
   ]
  },
  {
   "cell_type": "code",
   "execution_count": null,
   "metadata": {},
   "outputs": [],
   "source": []
  },
  {
   "cell_type": "code",
   "execution_count": null,
   "metadata": {},
   "outputs": [],
   "source": []
  }
 ],
 "metadata": {
  "kernelspec": {
   "display_name": "Python 3",
   "language": "python",
   "name": "python3"
  },
  "language_info": {
   "codemirror_mode": {
    "name": "ipython",
    "version": 3
   },
   "file_extension": ".py",
   "mimetype": "text/x-python",
   "name": "python",
   "nbconvert_exporter": "python",
   "pygments_lexer": "ipython3",
   "version": "3.6.8"
  }
 },
 "nbformat": 4,
 "nbformat_minor": 2
}

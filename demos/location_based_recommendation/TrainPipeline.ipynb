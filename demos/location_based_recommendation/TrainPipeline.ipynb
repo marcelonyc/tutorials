{
 "cells": [
  {
   "cell_type": "code",
   "execution_count": null,
   "metadata": {},
   "outputs": [],
   "source": [
    "!pip install kfp\n"
   ]
  },
  {
   "cell_type": "code",
   "execution_count": null,
   "metadata": {},
   "outputs": [],
   "source": [
    "import kfp\n",
    "from kfp import dsl"
   ]
  },
  {
   "cell_type": "code",
   "execution_count": null,
   "metadata": {},
   "outputs": [],
   "source": [
    "import os\n",
    "import sys\n",
    "sys.path.append('../lib')"
   ]
  },
  {
   "cell_type": "markdown",
   "metadata": {},
   "source": [
    "# Convert notebooks to python"
   ]
  },
  {
   "cell_type": "code",
   "execution_count": null,
   "metadata": {},
   "outputs": [],
   "source": [
    "from igz import v3io_cred, xcp_op, mount_v3io"
   ]
  },
  {
   "cell_type": "code",
   "execution_count": null,
   "metadata": {},
   "outputs": [],
   "source": [
    "NOTEBOOKS_DIR = os.getenv('NOTEBOOKS_DIR','/User/GitHub/igxartifacts/location_based_recommendation')\n",
    "PREP_NB = os.getenv('PREP_NB','02-preprocessing.ipynb')\n",
    "TRAIN_NB = os.getenv('TRAIN_NB','03-train_prod2vec_skipgram.ipynb')\n",
    "LGBM_NB = os.getenv('LGBM_NB','04-lgbm.ipynb')\n",
    "WORK_DIR = os.getenv('WORK_DIR','/v3io/bigdata/lbr')\n",
    "LBR_PATH  = os.getenv('LBR_PATH','/v3io/bigdata/lbr')"
   ]
  },
  {
   "cell_type": "code",
   "execution_count": null,
   "metadata": {},
   "outputs": [],
   "source": [
    "print(NOTEBOOKS_DIR)"
   ]
  },
  {
   "cell_type": "code",
   "execution_count": null,
   "metadata": {},
   "outputs": [],
   "source": [
    "%env NOTEBOOKS_DIR={NOTEBOOKS_DIR}\n",
    "%env PREP_NB={PREP_NB}\n",
    "%env TRAIN_NB={TRAIN_NB}\n",
    "%env LGBM_NB={LGBM_NB}"
   ]
  },
  {
   "cell_type": "code",
   "execution_count": null,
   "metadata": {},
   "outputs": [],
   "source": [
    "!jupyter nbconvert --output-dir={WORK_DIR} --to python {NOTEBOOKS_DIR}/{PREP_NB}\n",
    "!jupyter nbconvert --output-dir={WORK_DIR} --to python {NOTEBOOKS_DIR}/{TRAIN_NB}\n",
    "!jupyter nbconvert --output-dir={WORK_DIR} --to python {NOTEBOOKS_DIR}/{LGBM_NB}\n",
    "\n",
    "#!echo {NOTEBOOKS_DIR}/{PREP_NB}"
   ]
  },
  {
   "cell_type": "code",
   "execution_count": null,
   "metadata": {},
   "outputs": [],
   "source": [
    "!cp "
   ]
  },
  {
   "cell_type": "code",
   "execution_count": null,
   "metadata": {},
   "outputs": [],
   "source": [
    "nuclio_deploy = kfp.components.load_component(url='https://raw.githubusercontent.com/kubeflow/pipelines/master/components/nuclio/deploy/component.yaml')\n",
    "nuclio_invoke = kfp.components.load_component(url='https://raw.githubusercontent.com/kubeflow/pipelines/master/components/nuclio/invoker/component.yaml')"
   ]
  },
  {
   "cell_type": "code",
   "execution_count": null,
   "metadata": {},
   "outputs": [],
   "source": [
    "def run_step(NAME,CMD,LBR_PATH):\n",
    "    \"\"\"Print env vars.\"\"\"\n",
    "    cop = dsl.ContainerOp(\n",
    "        name=NAME,\n",
    "        image='python:3.6-jessie',\n",
    "        command=['ls /lbr',CMD],\n",
    "    )\n",
    "    cop.apply(v3io_cred())\n",
    "    cop.apply(mount_v3io(container='bigdata', sub_path='/lbr/01-generate_stores_and_customers/ipynb', mount_path='/lbr'))\n",
    "    return cop"
   ]
  },
  {
   "cell_type": "code",
   "execution_count": null,
   "metadata": {},
   "outputs": [],
   "source": [
    "@dsl.pipeline(\n",
    "    name='LBR pipeline',\n",
    "    description='Runnign LBR in kubeflow'\n",
    ")\n",
    "def my_pipeline(\n",
    "   txt='good morningf',\n",
    "   val=7,\n",
    "):\n",
    "    #step1 = run_step('PREP','python /lbr/02-preprocessing.py',LBR_PATH)\n",
    "    build = nuclio_deploy(url='/lbr/', name='myfunc', project='myproj', tag='0.11', dashboard='http://default-tenant-nuclio-dashboard:8070').after(train)\n",
    "\n",
    "    "
   ]
  },
  {
   "cell_type": "code",
   "execution_count": null,
   "metadata": {},
   "outputs": [],
   "source": [
    "kfp.compiler.Compiler().compile(my_pipeline, 'LBRpipe.yaml')"
   ]
  },
  {
   "cell_type": "code",
   "execution_count": null,
   "metadata": {},
   "outputs": [],
   "source": [
    "EXPERIMENT_NAME = 'LBR pipeline'"
   ]
  },
  {
   "cell_type": "code",
   "execution_count": null,
   "metadata": {},
   "outputs": [],
   "source": [
    "client = kfp.Client(namespace='default-tenant')\n",
    "arguments = {'txt': 'good evening', 'val': 7}\n",
    "experiment = client.create_experiment(EXPERIMENT_NAME)\n",
    "run_name = my_pipeline.__name__ + ' run'\n",
    "run_result = client.run_pipeline(experiment.id, run_name, 'LBRpipe.yaml', arguments)"
   ]
  },
  {
   "cell_type": "code",
   "execution_count": null,
   "metadata": {},
   "outputs": [],
   "source": []
  }
 ],
 "metadata": {
  "kernelspec": {
   "display_name": "Python 3",
   "language": "python",
   "name": "python3"
  },
  "language_info": {
   "codemirror_mode": {
    "name": "ipython",
    "version": 3
   },
   "file_extension": ".py",
   "mimetype": "text/x-python",
   "name": "python",
   "nbconvert_exporter": "python",
   "pygments_lexer": "ipython3",
   "version": "3.6.8"
  }
 },
 "nbformat": 4,
 "nbformat_minor": 2
}

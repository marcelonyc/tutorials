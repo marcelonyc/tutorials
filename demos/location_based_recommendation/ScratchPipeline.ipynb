{
 "cells": [
  {
   "cell_type": "code",
   "execution_count": 7,
   "metadata": {},
   "outputs": [],
   "source": [
    "#!pip install kfp\n",
    "import sys\n",
    "sys.path.append('../../../igxartifacts/lib')\n",
    "sys.path.append('../../../pipelines/sdk/python')"
   ]
  },
  {
   "cell_type": "code",
   "execution_count": 4,
   "metadata": {},
   "outputs": [],
   "source": [
    "import kfp\n",
    "from kfp import dsl"
   ]
  },
  {
   "cell_type": "code",
   "execution_count": 5,
   "metadata": {},
   "outputs": [],
   "source": [
    "import os\n",
    "import sys"
   ]
  },
  {
   "cell_type": "markdown",
   "metadata": {},
   "source": [
    "# Convert notebooks to python"
   ]
  },
  {
   "cell_type": "code",
   "execution_count": 8,
   "metadata": {},
   "outputs": [],
   "source": [
    "from igz import v3io_cred, xcp_op, mount_v3io"
   ]
  },
  {
   "cell_type": "code",
   "execution_count": 9,
   "metadata": {},
   "outputs": [],
   "source": [
    "NOTEBOOKS_DIR = os.getenv('NOTEBOOKS_DIR','/User/GitHub/igxartifacts/location_based_recommendation')\n",
    "PREP_NB = os.getenv('PREP_NB','02-preprocessing.ipynb')\n",
    "TRAIN_NB = os.getenv('TRAIN_NB','03-train_prod2vec_skipgram.ipynb')\n",
    "LGBM_NB = os.getenv('LGBM_NB','04-lgbm.ipynb')\n",
    "WORK_DIR = os.getenv('WORK_DIR','/v3io/bigdata/lbr')\n",
    "LBR_PATH  = os.getenv('LBR_PATH','/v3io/bigdata/lbr')"
   ]
  },
  {
   "cell_type": "code",
   "execution_count": 33,
   "metadata": {},
   "outputs": [
    {
     "name": "stdout",
     "output_type": "stream",
     "text": [
      "/User/GitHub/igxartifacts/location_based_recommendation\n"
     ]
    }
   ],
   "source": [
    "print(NOTEBOOKS_DIR)"
   ]
  },
  {
   "cell_type": "code",
   "execution_count": 10,
   "metadata": {},
   "outputs": [
    {
     "name": "stdout",
     "output_type": "stream",
     "text": [
      "env: NOTEBOOKS_DIR=/User/GitHub/igxartifacts/location_based_recommendation\n",
      "env: PREP_NB=02-preprocessing.ipynb\n",
      "env: TRAIN_NB=03-train_prod2vec_skipgram.ipynb\n",
      "env: LGBM_NB=04-lgbm.ipynb\n"
     ]
    }
   ],
   "source": [
    "%env NOTEBOOKS_DIR={NOTEBOOKS_DIR}\n",
    "%env PREP_NB={PREP_NB}\n",
    "%env TRAIN_NB={TRAIN_NB}\n",
    "%env LGBM_NB={LGBM_NB}"
   ]
  },
  {
   "cell_type": "code",
   "execution_count": 35,
   "metadata": {},
   "outputs": [
    {
     "name": "stdout",
     "output_type": "stream",
     "text": [
      "[NbConvertApp] Converting notebook /User/GitHub/igxartifacts/location_based_recommendation/02-preprocessing.ipynb to python\n",
      "[NbConvertApp] Writing 7785 bytes to /v3io/bigdata/lbr/02-preprocessing.py\n",
      "[NbConvertApp] Converting notebook /User/GitHub/igxartifacts/location_based_recommendation/03-train_prod2vec_skipgram.ipynb to python\n",
      "[NbConvertApp] Writing 9076 bytes to /v3io/bigdata/lbr/03-train_prod2vec_skipgram.py\n",
      "[NbConvertApp] Converting notebook /User/GitHub/igxartifacts/location_based_recommendation/04-lgbm.ipynb to python\n",
      "[NbConvertApp] Writing 15283 bytes to /v3io/bigdata/lbr/04-lgbm.py\n"
     ]
    }
   ],
   "source": [
    "!jupyter nbconvert --output-dir={WORK_DIR} --to python {NOTEBOOKS_DIR}/{PREP_NB}\n",
    "!jupyter nbconvert --output-dir={WORK_DIR} --to python {NOTEBOOKS_DIR}/{TRAIN_NB}\n",
    "!jupyter nbconvert --output-dir={WORK_DIR} --to python {NOTEBOOKS_DIR}/{LGBM_NB}\n",
    "\n",
    "#!echo {NOTEBOOKS_DIR}/{PREP_NB}"
   ]
  },
  {
   "cell_type": "code",
   "execution_count": 11,
   "metadata": {},
   "outputs": [],
   "source": [
    "nuclio_deploy = kfp.components.load_component(url='https://raw.githubusercontent.com/kubeflow/pipelines/master/components/nuclio/deploy/component.yaml')\n",
    "nuclio_invoke = kfp.components.load_component(url='https://raw.githubusercontent.com/kubeflow/pipelines/master/components/nuclio/invoker/component.yaml')"
   ]
  },
  {
   "cell_type": "code",
   "execution_count": 45,
   "metadata": {},
   "outputs": [],
   "source": [
    "def run_step(NAME,CMD,LBR_PATH):\n",
    "    \"\"\"Print env vars.\"\"\"\n",
    "    cop = dsl.ContainerOp(\n",
    "        name=NAME,\n",
    "        image='python:3.6-jessie',\n",
    "        command=['ls /lbr',CMD],\n",
    "    )\n",
    "    cop.apply(v3io_cred())\n",
    "    cop.apply(mount_v3io(container='bigdata', sub_path=LBR_PATH, mount_path='/lbr'))\n",
    "    return cop"
   ]
  },
  {
   "cell_type": "code",
   "execution_count": 12,
   "metadata": {},
   "outputs": [],
   "source": [
    "@dsl.pipeline(\n",
    "    name='LBR pipeline',\n",
    "    description='Runnign LBR in kubeflow'\n",
    ")\n",
    "def my_pipeline(\n",
    "   txt='good morningf',\n",
    "   val=7,\n",
    "):\n",
    "    build = nuclio_deploy(url='./02-nuclio-generator.ipynb', name='generator', project='lbr2', tag='0.1')\n",
    "\n",
    "    "
   ]
  },
  {
   "cell_type": "code",
   "execution_count": 13,
   "metadata": {},
   "outputs": [],
   "source": [
    "kfp.compiler.Compiler().compile(my_pipeline, 'scratchpipe.yaml')"
   ]
  },
  {
   "cell_type": "code",
   "execution_count": 14,
   "metadata": {},
   "outputs": [],
   "source": [
    "EXPERIMENT_NAME = 'Scratch pipeline'"
   ]
  },
  {
   "cell_type": "code",
   "execution_count": 15,
   "metadata": {},
   "outputs": [
    {
     "data": {
      "text/html": [
       "Experiment link <a href=\"/pipeline/#/experiments/details/9addbe11-8385-4c42-8ca7-928a05db1a05\" target=\"_blank\" >here</a>"
      ],
      "text/plain": [
       "<IPython.core.display.HTML object>"
      ]
     },
     "metadata": {},
     "output_type": "display_data"
    },
    {
     "data": {
      "text/html": [
       "Run link <a href=\"/pipeline/#/runs/details/41164e14-a7f3-11e9-b2a9-0a56383fcfc8\" target=\"_blank\" >here</a>"
      ],
      "text/plain": [
       "<IPython.core.display.HTML object>"
      ]
     },
     "metadata": {},
     "output_type": "display_data"
    }
   ],
   "source": [
    "client = kfp.Client(namespace='default-tenant')\n",
    "arguments = {'txt': 'good evening', 'val': 7}\n",
    "experiment = client.create_experiment(EXPERIMENT_NAME)\n",
    "run_name = my_pipeline.__name__ + ' run'\n",
    "run_result = client.run_pipeline(experiment.id, run_name, 'scratchpipe.yaml', arguments)"
   ]
  },
  {
   "cell_type": "code",
   "execution_count": null,
   "metadata": {},
   "outputs": [],
   "source": []
  }
 ],
 "metadata": {
  "kernelspec": {
   "display_name": "Python 3",
   "language": "python",
   "name": "python3"
  },
  "language_info": {
   "codemirror_mode": {
    "name": "ipython",
    "version": 3
   },
   "file_extension": ".py",
   "mimetype": "text/x-python",
   "name": "python",
   "nbconvert_exporter": "python",
   "pygments_lexer": "ipython3",
   "version": "3.6.8"
  }
 },
 "nbformat": 4,
 "nbformat_minor": 2
}

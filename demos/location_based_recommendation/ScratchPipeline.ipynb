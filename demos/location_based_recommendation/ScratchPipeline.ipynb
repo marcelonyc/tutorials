{
 "cells": [
  {
   "cell_type": "markdown",
   "metadata": {},
   "source": [
    "# Kubeflow pipeline generator\n",
    "## Generate a pipeline with a single Nuclio function"
   ]
  },
  {
   "cell_type": "code",
   "execution_count": 18,
   "metadata": {},
   "outputs": [],
   "source": [
    "#!pip install kfp\n",
    "import sys,os\n",
    "sys.path.append('../../../igxartifacts/lib')\n",
    "sys.path.append('../../../pipelines/sdk/python')"
   ]
  },
  {
   "cell_type": "code",
   "execution_count": 19,
   "metadata": {},
   "outputs": [],
   "source": [
    "import kfp\n",
    "from kfp import dsl\n",
    "from igz import v3io_cred, xcp_op, mount_v3io"
   ]
  },
  {
   "cell_type": "markdown",
   "metadata": {},
   "source": [
    "## Change to your cluster's endpoint for pipelines"
   ]
  },
  {
   "cell_type": "code",
   "execution_count": 44,
   "metadata": {},
   "outputs": [
    {
     "name": "stdout",
     "output_type": "stream",
     "text": [
      "env: KF_PIPELINES_UI_ENDPOINT=https://dashboard.default-tenant.app.mdl0716.iguazio-cd2.com/pipelines\n"
     ]
    }
   ],
   "source": [
    "%env KF_PIPELINES_UI_ENDPOINT=https://dashboard.default-tenant.app.mdl0716.iguazio-cd2.com/pipelines"
   ]
  },
  {
   "cell_type": "markdown",
   "metadata": {},
   "source": [
    "## Change to location of the location_based_recommendation folder\n",
    "### or use a diffrent folder and different Jupyter notebook\n",
    "\n",
    "### The jupyter notebook should generate a Nuclio function with all its specs and pre-requisities\n",
    "\n",
    "The Jupyter notebok should set the environment variables for V3IO\n",
    "```\n",
    "V3IO_FRAMESD=${V3IO_FRAMESD}\n",
    "V3IO_USERNAME=${V3IO_USERNAME}\n",
    "V3IO_ACCESS_KEY=${V3IO_ACCESS_KEY}\n",
    "```"
   ]
  },
  {
   "cell_type": "code",
   "execution_count": 47,
   "metadata": {},
   "outputs": [],
   "source": [
    "NOTEBOOKS_DIR = os.getenv('NOTEBOOKS_DIR','/User/GitHub/tutorials/demos/location_based_recommendation')"
   ]
  },
  {
   "cell_type": "markdown",
   "metadata": {},
   "source": [
    "## N_GEN is the notebook to run in Kubeflow step"
   ]
  },
  {
   "cell_type": "code",
   "execution_count": 47,
   "metadata": {},
   "outputs": [],
   "source": [
    "N_GEN = os.getenv('N_GEN','02-nuclio-generator')\n",
    "WORK_DIR = os.getenv('WORK_DIR','/v3io/bigdata/lbr')\n",
    "LBR_PATH  = os.getenv('LBR_PATH','/v3io/bigdata/lbr')"
   ]
  },
  {
   "cell_type": "code",
   "execution_count": 48,
   "metadata": {},
   "outputs": [
    {
     "name": "stdout",
     "output_type": "stream",
     "text": [
      "/User/GitHub/tutorials/demos/location_based_recommendation\n"
     ]
    }
   ],
   "source": [
    "print(NOTEBOOKS_DIR)"
   ]
  },
  {
   "cell_type": "code",
   "execution_count": 49,
   "metadata": {},
   "outputs": [
    {
     "name": "stdout",
     "output_type": "stream",
     "text": [
      "env: NOTEBOOKS_DIR=/User/GitHub/tutorials/demos/location_based_recommendation\n",
      "env: N_GEN=02-nuclio-generator\n",
      "env: LGBM_NB={LGBM_NB}\n"
     ]
    }
   ],
   "source": [
    "%env NOTEBOOKS_DIR={NOTEBOOKS_DIR}\n",
    "%env N_GEN={N_GEN}\n",
    "%env LGBM_NB={LGBM_NB}"
   ]
  },
  {
   "cell_type": "code",
   "execution_count": 61,
   "metadata": {},
   "outputs": [],
   "source": [
    "!cp {NOTEBOOKS_DIR}/{N_GEN}.ipynb {LBR_PATH}/."
   ]
  },
  {
   "cell_type": "code",
   "execution_count": 62,
   "metadata": {},
   "outputs": [],
   "source": [
    "nuclio_deploy = kfp.components.load_component(url='https://raw.githubusercontent.com/kubeflow/pipelines/master/components/nuclio/deploy/component.yaml')\n",
    "nuclio_invoke = kfp.components.load_component(url='https://raw.githubusercontent.com/kubeflow/pipelines/master/components/nuclio/invoker/component.yaml')"
   ]
  },
  {
   "cell_type": "code",
   "execution_count": 39,
   "metadata": {},
   "outputs": [],
   "source": [
    "##NOT IN USE\n",
    "def run_step(NAME,CMD,LBR_PATH):\n",
    "    \"\"\"Print env vars.\"\"\"\n",
    "    cop = dsl.ContainerOp(\n",
    "        name=NAME,\n",
    "        image='python:3.6-jessie',\n",
    "        command=['ls /lbr',CMD],\n",
    "    )\n",
    "    cop.apply(v3io_cred())\n",
    "    cop.apply(mount_v3io(container='bigdata', sub_path=LBR_PATH, mount_path='/lbr'))\n",
    "    return cop"
   ]
  },
  {
   "cell_type": "code",
   "execution_count": 63,
   "metadata": {},
   "outputs": [],
   "source": [
    "@dsl.pipeline(\n",
    "    name='SCRATCH pipeline',\n",
    "    description='Runnign LBR in kubeflow'\n",
    ")\n",
    "def my_pipeline(\n",
    "   txt='good morningf',\n",
    "   val=7,\n",
    "):\n",
    "    build = nuclio_deploy(url='/lbr/02-nuclio-generator.ipynb', name='generator1', project='myproj',dashboard='http://default-tenant-nuclio-dashboard:8070').\\\n",
    "        apply(mount_v3io(container='bigdata', sub_path='/lbr', mount_path='/lbr')).apply(v3io_cred())\n",
    "\n",
    "\n",
    "    "
   ]
  },
  {
   "cell_type": "code",
   "execution_count": 64,
   "metadata": {},
   "outputs": [],
   "source": [
    "kfp.compiler.Compiler().compile(my_pipeline, 'scratchpipe.yaml')"
   ]
  },
  {
   "cell_type": "code",
   "execution_count": 65,
   "metadata": {},
   "outputs": [],
   "source": [
    "EXPERIMENT_NAME = 'Scratch pipeline'"
   ]
  },
  {
   "cell_type": "code",
   "execution_count": 66,
   "metadata": {},
   "outputs": [
    {
     "data": {
      "text/html": [
       "Experiment link <a href=\"/pipeline/#/experiments/details/9addbe11-8385-4c42-8ca7-928a05db1a05\" target=\"_blank\" >here</a>"
      ],
      "text/plain": [
       "<IPython.core.display.HTML object>"
      ]
     },
     "metadata": {},
     "output_type": "display_data"
    },
    {
     "data": {
      "text/html": [
       "Run link <a href=\"/pipeline/#/runs/details/e252c128-a8b2-11e9-b2a9-0a56383fcfc8\" target=\"_blank\" >here</a>"
      ],
      "text/plain": [
       "<IPython.core.display.HTML object>"
      ]
     },
     "metadata": {},
     "output_type": "display_data"
    }
   ],
   "source": [
    "client = kfp.Client(namespace='default-tenant')\n",
    "arguments = {'txt': 'good evening', 'val': 7}\n",
    "experiment = client.create_experiment(EXPERIMENT_NAME)\n",
    "run_name = my_pipeline.__name__ + ' run'\n",
    "run_result = client.run_pipeline(experiment.id, run_name, 'scratchpipe.yaml', arguments)"
   ]
  },
  {
   "cell_type": "code",
   "execution_count": null,
   "metadata": {},
   "outputs": [],
   "source": []
  }
 ],
 "metadata": {
  "kernelspec": {
   "display_name": "Python 3",
   "language": "python",
   "name": "python3"
  },
  "language_info": {
   "codemirror_mode": {
    "name": "ipython",
    "version": 3
   },
   "file_extension": ".py",
   "mimetype": "text/x-python",
   "name": "python",
   "nbconvert_exporter": "python",
   "pygments_lexer": "ipython3",
   "version": "3.6.8"
  }
 },
 "nbformat": 4,
 "nbformat_minor": 2
}

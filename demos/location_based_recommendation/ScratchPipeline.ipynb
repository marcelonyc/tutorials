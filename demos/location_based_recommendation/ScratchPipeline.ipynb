{
 "cells": [
  {
   "cell_type": "code",
   "execution_count": 18,
   "metadata": {},
   "outputs": [],
   "source": [
    "#!pip install kfp\n",
    "import sys\n",
    "sys.path.append('../../../igxartifacts/lib')\n",
    "sys.path.append('../../../pipelines/sdk/python')"
   ]
  },
  {
   "cell_type": "code",
   "execution_count": 19,
   "metadata": {},
   "outputs": [],
   "source": [
    "import kfp\n",
    "from kfp import dsl"
   ]
  },
  {
   "cell_type": "code",
   "execution_count": 20,
   "metadata": {},
   "outputs": [],
   "source": [
    "import os\n",
    "import sys"
   ]
  },
  {
   "cell_type": "markdown",
   "metadata": {},
   "source": [
    "# Convert notebooks to python"
   ]
  },
  {
   "cell_type": "code",
   "execution_count": 21,
   "metadata": {},
   "outputs": [],
   "source": [
    "from igz import v3io_cred, xcp_op, mount_v3io"
   ]
  },
  {
   "cell_type": "code",
   "execution_count": 22,
   "metadata": {},
   "outputs": [],
   "source": [
    "NOTEBOOKS_DIR = os.getenv('NOTEBOOKS_DIR','/User/GitHub/tutorials/demos/location_based_recommendation')\n",
    "N_GEN = os.getenv('N_GEN','02-nuclio-generator')\n",
    "WORK_DIR = os.getenv('WORK_DIR','/v3io/bigdata/lbr')\n",
    "LBR_PATH  = os.getenv('LBR_PATH','/v3io/bigdata/lbr')\n",
    "\n",
    "N_GEN_CMD = \"/lbr/\" + N_GEN + \".py\""
   ]
  },
  {
   "cell_type": "code",
   "execution_count": 23,
   "metadata": {},
   "outputs": [
    {
     "name": "stdout",
     "output_type": "stream",
     "text": [
      "/User/GitHub/tutorials/demos/location_based_recommendation\n"
     ]
    }
   ],
   "source": [
    "print(NOTEBOOKS_DIR)"
   ]
  },
  {
   "cell_type": "code",
   "execution_count": 24,
   "metadata": {},
   "outputs": [
    {
     "name": "stdout",
     "output_type": "stream",
     "text": [
      "env: NOTEBOOKS_DIR=/User/GitHub/tutorials/demos/location_based_recommendation\n",
      "env: N_GEN=02-nuclio-generator\n",
      "env: LGBM_NB={LGBM_NB}\n"
     ]
    }
   ],
   "source": [
    "%env NOTEBOOKS_DIR={NOTEBOOKS_DIR}\n",
    "%env N_GEN={N_GEN}\n",
    "%env LGBM_NB={LGBM_NB}"
   ]
  },
  {
   "cell_type": "code",
   "execution_count": 9,
   "metadata": {},
   "outputs": [
    {
     "name": "stdout",
     "output_type": "stream",
     "text": [
      "[NbConvertApp] Converting notebook /User/GitHub/tutorials/demos/location_based_recommendation/02-nuclio-generator.ipynb to python\n",
      "[NbConvertApp] Writing 4671 bytes to /v3io/bigdata/lbr/02-nuclio-generator.py\n"
     ]
    }
   ],
   "source": [
    "!jupyter nbconvert --output-dir={WORK_DIR} --to python {NOTEBOOKS_DIR}/{N_GEN}.py\n",
    "#!echo {NOTEBOOKS_DIR}/{PREP_NB}"
   ]
  },
  {
   "cell_type": "code",
   "execution_count": 37,
   "metadata": {},
   "outputs": [],
   "source": [
    "!cp {NOTEBOOKS_DIR}/{N_GEN}.ipynb {LBR_PATH}/."
   ]
  },
  {
   "cell_type": "code",
   "execution_count": 38,
   "metadata": {},
   "outputs": [],
   "source": [
    "nuclio_deploy = kfp.components.load_component(url='https://raw.githubusercontent.com/kubeflow/pipelines/master/components/nuclio/deploy/component.yaml')\n",
    "nuclio_invoke = kfp.components.load_component(url='https://raw.githubusercontent.com/kubeflow/pipelines/master/components/nuclio/invoker/component.yaml')"
   ]
  },
  {
   "cell_type": "code",
   "execution_count": 39,
   "metadata": {},
   "outputs": [],
   "source": [
    "def run_step(NAME,CMD,LBR_PATH):\n",
    "    \"\"\"Print env vars.\"\"\"\n",
    "    cop = dsl.ContainerOp(\n",
    "        name=NAME,\n",
    "        image='python:3.6-jessie',\n",
    "        command=['ls /lbr',CMD],\n",
    "    )\n",
    "    cop.apply(v3io_cred())\n",
    "    cop.apply(mount_v3io(container='bigdata', sub_path=LBR_PATH, mount_path='/lbr'))\n",
    "    return cop\n",
    "\n",
    "def run_python(NAME,CMD):\n",
    "    \"\"\"Print env vars.\"\"\"\n",
    "    cop = dsl.ContainerOp(\n",
    "        name=NAME,\n",
    "        image='python:3.6-jessie',\n",
    "        command=['python',CMD],\n",
    "    )\n",
    "    cop.apply(v3io_cred())\n",
    "    cop.apply(mount_v3io(container='bigdata', sub_path='/lbr', mount_path='/lbr'))\n",
    "    return cop"
   ]
  },
  {
   "cell_type": "code",
   "execution_count": 40,
   "metadata": {},
   "outputs": [],
   "source": [
    "@dsl.pipeline(\n",
    "    name='SCRATCH pipeline',\n",
    "    description='Runnign LBR in kubeflow'\n",
    ")\n",
    "def my_pipeline(\n",
    "   txt='good morningf',\n",
    "   val=7,\n",
    "):\n",
    "    #build = run_python('N_GEN',N_GEN_CMD)\n",
    "    build = nuclio_deploy(url='/lbr/02-nuclio-generator.ipynb', name='generator1', project='myproj',dashboard='http://default-tenant-nuclio-dashboard:8070').apply(mount_v3io(container='bigdata', sub_path='/lbr', mount_path='/lbr'))\n",
    "\n",
    "\n",
    "    "
   ]
  },
  {
   "cell_type": "code",
   "execution_count": 41,
   "metadata": {},
   "outputs": [],
   "source": [
    "kfp.compiler.Compiler().compile(my_pipeline, 'scratchpipe.yaml')"
   ]
  },
  {
   "cell_type": "code",
   "execution_count": 42,
   "metadata": {},
   "outputs": [],
   "source": [
    "EXPERIMENT_NAME = 'Scratch pipeline'"
   ]
  },
  {
   "cell_type": "code",
   "execution_count": 43,
   "metadata": {},
   "outputs": [
    {
     "data": {
      "text/html": [
       "Experiment link <a href=\"/pipeline/#/experiments/details/9addbe11-8385-4c42-8ca7-928a05db1a05\" target=\"_blank\" >here</a>"
      ],
      "text/plain": [
       "<IPython.core.display.HTML object>"
      ]
     },
     "metadata": {},
     "output_type": "display_data"
    },
    {
     "data": {
      "text/html": [
       "Run link <a href=\"/pipeline/#/runs/details/917ab2b1-a89a-11e9-b2a9-0a56383fcfc8\" target=\"_blank\" >here</a>"
      ],
      "text/plain": [
       "<IPython.core.display.HTML object>"
      ]
     },
     "metadata": {},
     "output_type": "display_data"
    }
   ],
   "source": [
    "client = kfp.Client(namespace='default-tenant')\n",
    "arguments = {'txt': 'good evening', 'val': 7}\n",
    "experiment = client.create_experiment(EXPERIMENT_NAME)\n",
    "run_name = my_pipeline.__name__ + ' run'\n",
    "run_result = client.run_pipeline(experiment.id, run_name, 'scratchpipe.yaml', arguments)"
   ]
  },
  {
   "cell_type": "code",
   "execution_count": null,
   "metadata": {},
   "outputs": [],
   "source": []
  }
 ],
 "metadata": {
  "kernelspec": {
   "display_name": "Python 3",
   "language": "python",
   "name": "python3"
  },
  "language_info": {
   "codemirror_mode": {
    "name": "ipython",
    "version": 3
   },
   "file_extension": ".py",
   "mimetype": "text/x-python",
   "name": "python",
   "nbconvert_exporter": "python",
   "pygments_lexer": "ipython3",
   "version": "3.6.8"
  }
 },
 "nbformat": 4,
 "nbformat_minor": 2
}

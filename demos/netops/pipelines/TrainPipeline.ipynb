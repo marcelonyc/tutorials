{
 "cells": [
  {
   "cell_type": "markdown",
   "metadata": {},
   "source": [
    "# Kubeflow pipeline generator\n",
    "## Generate a pipeline with a single Nuclio function"
   ]
  },
  {
   "cell_type": "code",
   "execution_count": 1,
   "metadata": {},
   "outputs": [],
   "source": [
    "#!pip install kfp\n",
    "import sys,os\n",
    "sys.path.append('/User/GitHub/igxartifacts/lib')\n",
    "sys.path.append('/User/GitHub/pipelines/sdk/python')"
   ]
  },
  {
   "cell_type": "code",
   "execution_count": 2,
   "metadata": {},
   "outputs": [],
   "source": [
    "import kfp\n",
    "from kfp import dsl\n",
    "from igz import v3io_cred, xcp_op, mount_v3io"
   ]
  },
  {
   "cell_type": "markdown",
   "metadata": {},
   "source": [
    "## Change to your cluster's endpoint for pipelines"
   ]
  },
  {
   "cell_type": "code",
   "execution_count": 3,
   "metadata": {},
   "outputs": [
    {
     "name": "stdout",
     "output_type": "stream",
     "text": [
      "env: KF_PIPELINES_UI_ENDPOINT=https://dashboard.default-tenant.app.mdl0716.iguazio-cd2.com/pipelines\n"
     ]
    }
   ],
   "source": [
    "%env KF_PIPELINES_UI_ENDPOINT=https://dashboard.default-tenant.app.mdl0716.iguazio-cd2.com/pipelines"
   ]
  },
  {
   "cell_type": "markdown",
   "metadata": {},
   "source": [
    "## Change to location of the location_based_recommendation folder\n",
    "### or use a diffrent folder and different Jupyter notebook\n",
    "\n",
    "### The jupyter notebook should generate a Nuclio function with all its specs and pre-requisities\n",
    "\n",
    "The Jupyter notebok should set the environment variables for V3IO\n",
    "```\n",
    "V3IO_FRAMESD=${V3IO_FRAMESD}\n",
    "V3IO_USERNAME=${V3IO_USERNAME}\n",
    "V3IO_ACCESS_KEY=${V3IO_ACCESS_KEY}\n",
    "```"
   ]
  },
  {
   "cell_type": "code",
   "execution_count": 4,
   "metadata": {},
   "outputs": [],
   "source": [
    "NOTEBOOKS_DIR = os.getenv('NOTEBOOKS_DIR','/User/Netops/tutorials/demos/netops/pipelines')"
   ]
  },
  {
   "cell_type": "markdown",
   "metadata": {},
   "source": [
    "## N_GEN is the notebook to run in Kubeflow step"
   ]
  },
  {
   "cell_type": "code",
   "execution_count": 5,
   "metadata": {},
   "outputs": [],
   "source": [
    "WORK_DIR = os.getenv('WORK_DIR','/v3io/bigdata/lbr')\n",
    "LBR_PATH  = os.getenv('LBR_PATH','/v3io/bigdata/lbr')"
   ]
  },
  {
   "cell_type": "code",
   "execution_count": 6,
   "metadata": {},
   "outputs": [
    {
     "name": "stdout",
     "output_type": "stream",
     "text": [
      "env: NOTEBOOKS_DIR=/User/Netops/tutorials/demos/netops/pipelines\n",
      "env: N_GEN={N_GEN}\n",
      "env: LGBM_NB={LGBM_NB}\n"
     ]
    }
   ],
   "source": [
    "%env NOTEBOOKS_DIR={NOTEBOOKS_DIR}\n",
    "%env N_GEN={N_GEN}\n",
    "%env LGBM_NB={LGBM_NB}"
   ]
  },
  {
   "cell_type": "code",
   "execution_count": 7,
   "metadata": {},
   "outputs": [],
   "source": [
    "!cp {NOTEBOOKS_DIR}/nuclio*.ipynb {LBR_PATH}/."
   ]
  },
  {
   "cell_type": "code",
   "execution_count": 8,
   "metadata": {},
   "outputs": [],
   "source": [
    "nuclio_deploy = kfp.components.load_component(url='https://raw.githubusercontent.com/kubeflow/pipelines/master/components/nuclio/deploy/component.yaml')\n",
    "nuclio_invoke = kfp.components.load_component(url='https://raw.githubusercontent.com/kubeflow/pipelines/master/components/nuclio/invoker/component.yaml')"
   ]
  },
  {
   "cell_type": "code",
   "execution_count": 9,
   "metadata": {},
   "outputs": [],
   "source": [
    "@dsl.pipeline(\n",
    "    name='SCRATCH pipeline',\n",
    "    description='Runnign LBR in kubeflow'\n",
    ")\n",
    "def my_pipeline(\n",
    "   txt='good morningf',\n",
    "   val=7,\n",
    "):\n",
    "    gen = nuclio_deploy(url='/lbr/nuclio-generator.ipynb', name='datagen', project='NetopsPipeline',dashboard='http://default-tenant-nuclio-dashboard:8070').\\\n",
    "        apply(mount_v3io(container='bigdata', sub_path='/lbr', mount_path='/lbr')).apply(v3io_cred())\n",
    "    prep = nuclio_deploy(url='/lbr/nuclio-data-preparations.ipynb', name='dataprep', project='NetopsPipeline',dashboard='http://default-tenant-nuclio-dashboard:8070').\\\n",
    "        apply(mount_v3io(container='bigdata', sub_path='/lbr', mount_path='/lbr')).apply(v3io_cred()).after(gen)\n",
    "    train = nuclio_deploy(url='/lbr/nuclio-training.ipynb', name='train', project='NetopsPipeline',dashboard='http://default-tenant-nuclio-dashboard:8070').\\\n",
    "        apply(mount_v3io(container='bigdata', sub_path='/lbr', mount_path='/lbr')).apply(v3io_cred()).after(prep)\n",
    "\n",
    "\n",
    "    "
   ]
  },
  {
   "cell_type": "code",
   "execution_count": 10,
   "metadata": {},
   "outputs": [],
   "source": [
    "kfp.compiler.Compiler().compile(my_pipeline, 'netops.yaml')"
   ]
  },
  {
   "cell_type": "code",
   "execution_count": 11,
   "metadata": {},
   "outputs": [],
   "source": [
    "EXPERIMENT_NAME = 'Netops training pipeline'"
   ]
  },
  {
   "cell_type": "code",
   "execution_count": 13,
   "metadata": {},
   "outputs": [
    {
     "data": {
      "text/html": [
       "Experiment link <a href=\"/pipeline/#/experiments/details/83f65173-f77c-4aec-9f60-35d163cc5004\" target=\"_blank\" >here</a>"
      ],
      "text/plain": [
       "<IPython.core.display.HTML object>"
      ]
     },
     "metadata": {},
     "output_type": "display_data"
    },
    {
     "data": {
      "text/html": [
       "Run link <a href=\"/pipeline/#/runs/details/89a093e7-a8de-11e9-b2a9-0a56383fcfc8\" target=\"_blank\" >here</a>"
      ],
      "text/plain": [
       "<IPython.core.display.HTML object>"
      ]
     },
     "metadata": {},
     "output_type": "display_data"
    }
   ],
   "source": [
    "client = kfp.Client(namespace='default-tenant')\n",
    "arguments = {'txt': 'good evening', 'val': 7}\n",
    "experiment = client.create_experiment(EXPERIMENT_NAME)\n",
    "run_name = my_pipeline.__name__ + ' run'\n",
    "run_result = client.run_pipeline(experiment.id, run_name, 'netops.yaml', arguments)"
   ]
  },
  {
   "cell_type": "code",
   "execution_count": null,
   "metadata": {},
   "outputs": [],
   "source": []
  }
 ],
 "metadata": {
  "kernelspec": {
   "display_name": "Python 3",
   "language": "python",
   "name": "python3"
  },
  "language_info": {
   "codemirror_mode": {
    "name": "ipython",
    "version": 3
   },
   "file_extension": ".py",
   "mimetype": "text/x-python",
   "name": "python",
   "nbconvert_exporter": "python",
   "pygments_lexer": "ipython3",
   "version": "3.6.8"
  }
 },
 "nbformat": 4,
 "nbformat_minor": 2
}
